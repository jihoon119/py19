{
  "nbformat": 4,
  "nbformat_minor": 0,
  "metadata": {
    "colab": {
      "name": "mid_exam_py19.ipynb",
      "provenance": [],
      "collapsed_sections": [],
      "authorship_tag": "ABX9TyPE48HBP88T0UgtwcDLE64Y",
      "include_colab_link": true
    },
    "kernelspec": {
      "name": "python3",
      "display_name": "Python 3"
    }
  },
  "cells": [
    {
      "cell_type": "markdown",
      "metadata": {
        "id": "view-in-github",
        "colab_type": "text"
      },
      "source": [
        "<a href=\"https://colab.research.google.com/github/jihoon119/py19/blob/master/mid_exam_py19.ipynb\" target=\"_parent\"><img src=\"https://colab.research.google.com/assets/colab-badge.svg\" alt=\"Open In Colab\"/></a>"
      ]
    },
    {
      "cell_type": "markdown",
      "metadata": {
        "id": "MCwzISF1K7tk",
        "colab_type": "text"
      },
      "source": [
        "## 파이썬활용 중간고사 풀이"
      ]
    },
    {
      "cell_type": "code",
      "metadata": {
        "id": "2LvxbwcVLEfQ",
        "colab_type": "code",
        "colab": {}
      },
      "source": [
        ""
      ],
      "execution_count": 0,
      "outputs": []
    },
    {
      "cell_type": "markdown",
      "metadata": {
        "id": "2-VK6Z1SLPHv",
        "colab_type": "text"
      },
      "source": [
        "### 문제1. 다음 식의 연산 결과는 무엇인가?"
      ]
    },
    {
      "cell_type": "code",
      "metadata": {
        "id": "NTqSrMCdLJqk",
        "colab_type": "code",
        "colab": {
          "base_uri": "https://localhost:8080/",
          "height": 35
        },
        "outputId": "34b8fe37-c715-4d1d-da5c-ce08c4fe7030"
      },
      "source": [
        "a=5\n",
        "b=3\n",
        "a**b\n",
        "\n",
        "#**은 제곱을 뜻하는 것으로 125가 출력됩니다."
      ],
      "execution_count": 3,
      "outputs": [
        {
          "output_type": "execute_result",
          "data": {
            "text/plain": [
              "125"
            ]
          },
          "metadata": {
            "tags": []
          },
          "execution_count": 3
        }
      ]
    },
    {
      "cell_type": "markdown",
      "metadata": {
        "id": "m71L4LQzMMTT",
        "colab_type": "text"
      },
      "source": [
        "###문제2. 다음 문자열 a에 대하여 슬라이싱을 한 결과는 무엇인가?\n",
        "####a=\"Life is too short, You need Python!\"\n",
        "####a[-16:-8}"
      ]
    },
    {
      "cell_type": "code",
      "metadata": {
        "id": "z-m54zWUNBEW",
        "colab_type": "code",
        "colab": {
          "base_uri": "https://localhost:8080/",
          "height": 35
        },
        "outputId": "db35123d-330e-4de3-b5b4-ae43cd11d01f"
      },
      "source": [
        "a= \"Life is too short, you need Python!\"\n",
        "a[-16:-8]\n",
        "\n",
        "#-16은 Y부터 나타내는 것이고, -8은 d까지 나타낸다. 따라서 You need가 나옵니다."
      ],
      "execution_count": 4,
      "outputs": [
        {
          "output_type": "execute_result",
          "data": {
            "text/plain": [
              "'you need'"
            ]
          },
          "metadata": {
            "tags": []
          },
          "execution_count": 4
        }
      ]
    },
    {
      "cell_type": "markdown",
      "metadata": {
        "id": "sBY5iSabN26A",
        "colab_type": "text"
      },
      "source": [
        "###문제3. 다음 list a의 인덱싱 결과는 무엇인가?"
      ]
    },
    {
      "cell_type": "code",
      "metadata": {
        "id": "vpV0zfQNN1Z7",
        "colab_type": "code",
        "colab": {
          "base_uri": "https://localhost:8080/",
          "height": 35
        },
        "outputId": "812da9e5-7edd-4033-b554-fd9096d556d6"
      },
      "source": [
        "a = [1,2,(3,4),['a','b',['My','Life','Good']]]\n",
        "a[3][-1][0] \n",
        "\n",
        "# a[3]은 ['a','b',['My','Life','Good']이고, -1은 ['My','Life','Good']입니다. \n",
        "#['My','Life','Good']부분에서 0인 것은 \"My\"입니다\n"
      ],
      "execution_count": 10,
      "outputs": [
        {
          "output_type": "execute_result",
          "data": {
            "text/plain": [
              "'My'"
            ]
          },
          "metadata": {
            "tags": []
          },
          "execution_count": 10
        }
      ]
    },
    {
      "cell_type": "markdown",
      "metadata": {
        "id": "op42rg2FP38Q",
        "colab_type": "text"
      },
      "source": [
        "###문제4. 다음 tuple t1의 슬라이싱 결과는 무엇인가?"
      ]
    },
    {
      "cell_type": "code",
      "metadata": {
        "id": "TBHuICNfPI5u",
        "colab_type": "code",
        "colab": {
          "base_uri": "https://localhost:8080/",
          "height": 35
        },
        "outputId": "e4d2063a-f0f8-47c0-8311-28a4c27a4657"
      },
      "source": [
        "t1 = (0,1,\"s\", \"t\", \"u\")\n",
        "t1[2:-2]\n",
        "\n",
        "#tuple을 사용을 할 경우 콤마를 붙여 줘야합니다.\n",
        "#2는(\"s\")를 뜻하는것이고, -2는(\"t\")의 뒷부분을 뜻하는 것입니다. 그러므로 ('s',)가 출력됩니다."
      ],
      "execution_count": 11,
      "outputs": [
        {
          "output_type": "execute_result",
          "data": {
            "text/plain": [
              "('s',)"
            ]
          },
          "metadata": {
            "tags": []
          },
          "execution_count": 11
        }
      ]
    },
    {
      "cell_type": "markdown",
      "metadata": {
        "id": "CVSZ0TTWRHVe",
        "colab_type": "text"
      },
      "source": [
        "###문제5. 다음bool값 출력 중 정확한 것은?"
      ]
    },
    {
      "cell_type": "code",
      "metadata": {
        "id": "-TqgTYv5RE2n",
        "colab_type": "code",
        "colab": {
          "base_uri": "https://localhost:8080/",
          "height": 35
        },
        "outputId": "aef9f53c-5f69-4c5c-d673-7302aef987d6"
      },
      "source": [
        "bool([0,1,2]), bool([0]), bool((0)), bool((0,))\n",
        "\n",
        "#첫번째와 두번째는 []안에 값이 있어 True, 세번째는 문자열이 빈 문자열이기때문에 False, 네번째는 0, 가 있어 문자열이 되어 True가 됩니다."
      ],
      "execution_count": 12,
      "outputs": [
        {
          "output_type": "execute_result",
          "data": {
            "text/plain": [
              "(True, True, False, True)"
            ]
          },
          "metadata": {
            "tags": []
          },
          "execution_count": 12
        }
      ]
    },
    {
      "cell_type": "markdown",
      "metadata": {
        "id": "leX78JN0SN3d",
        "colab_type": "text"
      },
      "source": [
        "###문제6. 다음 조건문을 1줄 코드로 변경하시오."
      ]
    },
    {
      "cell_type": "code",
      "metadata": {
        "id": "iZQcaMKqRvpj",
        "colab_type": "code",
        "colab": {}
      },
      "source": [
        "score = 80\n",
        "if score >= 60 :\n",
        "  message = \"success\"\n",
        "else :\n",
        "  message = \"failure\""
      ],
      "execution_count": 0,
      "outputs": []
    },
    {
      "cell_type": "code",
      "metadata": {
        "id": "cgCo_bjMTAug",
        "colab_type": "code",
        "colab": {
          "base_uri": "https://localhost:8080/",
          "height": 136
        },
        "outputId": "796eb89b-477f-47a9-9a60-f817be935fa1"
      },
      "source": [
        "score = 80\n",
        "message = \"success\" if score >= else \"failure\""
      ],
      "execution_count": 15,
      "outputs": [
        {
          "output_type": "error",
          "ename": "SyntaxError",
          "evalue": "ignored",
          "traceback": [
            "\u001b[0;36m  File \u001b[0;32m\"<ipython-input-15-e9c62492f6b9>\"\u001b[0;36m, line \u001b[0;32m2\u001b[0m\n\u001b[0;31m    message = \"success\" if score >= else \"failure\"\u001b[0m\n\u001b[0m                                       ^\u001b[0m\n\u001b[0;31mSyntaxError\u001b[0m\u001b[0;31m:\u001b[0m invalid syntax\n"
          ]
        }
      ]
    },
    {
      "cell_type": "markdown",
      "metadata": {
        "id": "bOkP9izpTw1f",
        "colab_type": "text"
      },
      "source": [
        "###문제7. 다음 코드의 실행 결과는 무엇인가?"
      ]
    },
    {
      "cell_type": "code",
      "metadata": {
        "id": "kgpuWAf7TqUq",
        "colab_type": "code",
        "colab": {
          "base_uri": "https://localhost:8080/",
          "height": 35
        },
        "outputId": "4510ff43-2a97-4d20-8c64-c50ee520524e"
      },
      "source": [
        "games = [\"A\", \"B\", \"C\"]\n",
        "\n",
        "for cnt in range(len(games)):     #games라는 변수의 길이를 games안에 들어있는 각각의 변수 앞에 출력\n",
        "  print(cnt,games[cnt], end = ',')  #항목과 항복 사이에 줄바꿈없이 end의 속성으로 end에 ,가 출력"
      ],
      "execution_count": 16,
      "outputs": [
        {
          "output_type": "stream",
          "text": [
            "0 A,1 B,2 C,"
          ],
          "name": "stdout"
        }
      ]
    },
    {
      "cell_type": "markdown",
      "metadata": {
        "id": "rcabGI-sV1Dl",
        "colab_type": "text"
      },
      "source": [
        "###문제8. 다음의 결과가 출력되지 않는 것은?\n",
        "###'I ate 10 apples. so I was sick three days.'"
      ]
    },
    {
      "cell_type": "code",
      "metadata": {
        "id": "M9iB-9OAVMRq",
        "colab_type": "code",
        "colab": {}
      },
      "source": [
        "# code start\n",
        "number = 10\n",
        "day = \"three\"\n",
        "# 오류 : SyntaxError: positional argument follows keyword argument\n",
        "# 출력되지 않는 것: \"I ate {0} apples. so I was sick for {1} days.\".format(number=10,day)\n",
        "# 키워드 인자를 위치인자보다 먼저 사용했기때문에 오류가 발생한다."
      ],
      "execution_count": 0,
      "outputs": []
    },
    {
      "cell_type": "markdown",
      "metadata": {
        "id": "vMzzwHviZfaH",
        "colab_type": "text"
      },
      "source": [
        "###문제9. 리스트 내포를 사용해 1부터 1000이하의 자연수 중 5의 배수의 합을 구하는 한 줄 코드를 작성하시오.\n",
        "####*5+10+15+20+25+30+.....+995+1000=?"
      ]
    },
    {
      "cell_type": "code",
      "metadata": {
        "id": "Rcic-Eu2WurY",
        "colab_type": "code",
        "colab": {
          "base_uri": "https://localhost:8080/",
          "height": 35
        },
        "outputId": "8b563365-2a6d-460d-86d8-1e36b36a425c"
      },
      "source": [
        "sum([num for num in range(1,1001)if num % 5==0])"
      ],
      "execution_count": 24,
      "outputs": [
        {
          "output_type": "execute_result",
          "data": {
            "text/plain": [
              "100500"
            ]
          },
          "metadata": {
            "tags": []
          },
          "execution_count": 24
        }
      ]
    },
    {
      "cell_type": "markdown",
      "metadata": {
        "id": "NdaF-WUaaeBQ",
        "colab_type": "text"
      },
      "source": [
        "### 문제10. 4개 과목의 평균 성적을 구하시오. [a], [b]에 적합한 코드는?\n",
        "       subjects = ['python', 'english', 'math', 'science']\n",
        "       scores = [88, 77, 66, 95]\n",
        "       total = 0\n",
        "\n",
        "      for subject, score in [a]_____(subjects, scores):\n",
        "           total += score\n",
        "           print(subject, score)\n",
        "\n",
        "     print(\"평균점수 = (0)\", format([b]_____) "
      ]
    },
    {
      "cell_type": "code",
      "metadata": {
        "id": "4mwPYj0kazhD",
        "colab_type": "code",
        "colab": {
          "base_uri": "https://localhost:8080/",
          "height": 107
        },
        "outputId": "eb2eb7d0-7fef-4a03-a645-becd58d30412"
      },
      "source": [
        "subjects = ['python', 'english', 'math', 'science']\n",
        "scores = [ 88, 77, 66, 95]\n",
        "total = 0\n",
        "for subject, score in zip(subjects,scores): \n",
        "  total += score \n",
        "  print(subject,score)\n",
        "\n",
        "print(\"평균 점수 = {0}\".format(total/len(subjects)))\n",
        "# total/len(subjects) 사용해야함\n",
        "# 과목 수만큼 나눠주면 평균임."
      ],
      "execution_count": 26,
      "outputs": [
        {
          "output_type": "stream",
          "text": [
            "python 88\n",
            "english 77\n",
            "math 66\n",
            "science 95\n",
            "평균 점수 = 81.5\n"
          ],
          "name": "stdout"
        }
      ]
    },
    {
      "cell_type": "code",
      "metadata": {
        "id": "IIdrYLy8bK3A",
        "colab_type": "code",
        "colab": {}
      },
      "source": [
        ""
      ],
      "execution_count": 0,
      "outputs": []
    }
  ]
}